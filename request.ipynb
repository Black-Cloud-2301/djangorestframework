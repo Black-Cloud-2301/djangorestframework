{
 "cells": [
  {
   "cell_type": "code",
   "execution_count": null,
   "metadata": {},
   "outputs": [],
   "source": [
    "from python_functions import django_initializer\n",
    "import requests\n",
    "from api.models import Product\n"
   ]
  },
  {
   "cell_type": "code",
   "execution_count": null,
   "metadata": {},
   "outputs": [],
   "source": [
    "Product.objects.create(title=\"phone\",content=\"fucking expensive\",price=49.99)\n"
   ]
  },
  {
   "cell_type": "markdown",
   "metadata": {},
   "source": [
    "Basic"
   ]
  },
  {
   "cell_type": "code",
   "execution_count": null,
   "metadata": {},
   "outputs": [],
   "source": [
    "endpoint='http://127.0.0.1:8000/api/'\n",
    "\n",
    "data={\n",
    "    'title':'new title',\n",
    "    'content':'new content'\n",
    "    }\n",
    "\n",
    "response=requests.post(endpoint,json=data)\n",
    "print(response.json())"
   ]
  },
  {
   "cell_type": "markdown",
   "metadata": {},
   "source": [
    "Detail"
   ]
  },
  {
   "cell_type": "code",
   "execution_count": null,
   "metadata": {},
   "outputs": [],
   "source": [
    "endpoint='http://127.0.0.1:8000/api/9/'\n",
    "\n",
    "response=requests.get(endpoint)\n",
    "print(response.json())"
   ]
  },
  {
   "cell_type": "markdown",
   "metadata": {},
   "source": [
    "Create"
   ]
  },
  {
   "cell_type": "code",
   "execution_count": null,
   "metadata": {},
   "outputs": [],
   "source": [
    "endpoint='http://127.0.0.1:8000/api/'\n",
    "\n",
    "data={\n",
    "    'title':'new title',\n",
    "    # 'content':'new content',\n",
    "    'price':16.99\n",
    "    }\n",
    "\n",
    "response=requests.post(endpoint,json=data)\n",
    "print(response.json())"
   ]
  },
  {
   "cell_type": "markdown",
   "metadata": {},
   "source": [
    "List"
   ]
  },
  {
   "cell_type": "code",
   "execution_count": null,
   "metadata": {},
   "outputs": [],
   "source": [
    "endpoint='http://127.0.0.1:8000/api/'\n",
    "\n",
    "data={\n",
    "    'title':'new title',\n",
    "    # 'content':'new content',\n",
    "    'price':16.99\n",
    "    }\n",
    "\n",
    "response=requests.get(endpoint,json=data)\n",
    "print(response.json())"
   ]
  },
  {
   "cell_type": "markdown",
   "metadata": {},
   "source": [
    "Not Found"
   ]
  },
  {
   "cell_type": "code",
   "execution_count": null,
   "metadata": {},
   "outputs": [],
   "source": [
    "endpoint='http://127.0.0.1:8000/api/1123/'\n",
    "\n",
    "response=requests.get(endpoint)\n",
    "print(response.json())"
   ]
  },
  {
   "cell_type": "markdown",
   "metadata": {},
   "source": [
    "Update"
   ]
  },
  {
   "cell_type": "code",
   "execution_count": null,
   "metadata": {},
   "outputs": [],
   "source": [
    "endpoint='http://127.0.0.1:8000/api/9/update/'\n",
    "\n",
    "data={\n",
    "    'title':'Update title 8',\n",
    "    # 'content':'new content',\n",
    "    'price':16.99\n",
    "    }\n",
    "\n",
    "response=requests.put(endpoint,json=data)\n",
    "print(response.json())"
   ]
  },
  {
   "cell_type": "markdown",
   "metadata": {},
   "source": [
    "Delete"
   ]
  },
  {
   "cell_type": "code",
   "execution_count": null,
   "metadata": {},
   "outputs": [],
   "source": [
    "endpoint='http://127.0.0.1:8000/api/14/delete/'\n",
    "\n",
    "\n",
    "response=requests.delete(endpoint,json=data)\n",
    "print(response.status_code)"
   ]
  }
 ],
 "metadata": {
  "interpreter": {
   "hash": "2542dd3401b15fce7a0523015179a44d74cc76109cac1ee2c801cfd3ea74a112"
  },
  "kernelspec": {
   "display_name": "Python 3.10.2 ('venv': venv)",
   "language": "python",
   "name": "python3"
  },
  "language_info": {
   "codemirror_mode": {
    "name": "ipython",
    "version": 3
   },
   "file_extension": ".py",
   "mimetype": "text/x-python",
   "name": "python",
   "nbconvert_exporter": "python",
   "pygments_lexer": "ipython3",
   "version": "3.10.2"
  },
  "orig_nbformat": 4
 },
 "nbformat": 4,
 "nbformat_minor": 2
}
